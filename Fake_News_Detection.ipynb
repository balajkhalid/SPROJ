{
  "nbformat": 4,
  "nbformat_minor": 0,
  "metadata": {
    "colab": {
      "name": "Fake News Detection.ipynb",
      "provenance": [],
      "collapsed_sections": []
    },
    "kernelspec": {
      "name": "python3",
      "display_name": "Python 3"
    },
    "language_info": {
      "name": "python"
    }
  },
  "cells": [
    {
      "cell_type": "code",
      "metadata": {
        "colab": {
          "base_uri": "https://localhost:8080/"
        },
        "id": "sFj3alwAOjLQ",
        "outputId": "35d24bd0-c457-45b5-8de5-a4429f751388"
      },
      "source": [
        "%pip install scikit-learn --upgrade\n",
        "import nltk\n",
        "import re\n",
        "import seaborn as sns\n",
        "from nltk.corpus import stopwords\n",
        "nltk.download('stopwords')\n",
        "import matplotlib.pyplot as plt\n",
        "from sklearn.model_selection import train_test_split\n",
        "from sklearn.utils import resample\n",
        "from sklearn.feature_extraction.text import CountVectorizer, TfidfTransformer\n",
        "from sklearn.metrics import accuracy_score, precision_score, recall_score\n",
        "from sklearn.metrics import f1_score, mean_squared_error\n",
        "from sklearn.metrics import classification_report\n",
        "from sklearn.metrics import plot_confusion_matrix\n",
        "from sklearn.linear_model import LogisticRegression\n",
        "from sklearn.naive_bayes import MultinomialNB\n",
        "from sklearn.tree import DecisionTreeClassifier\n",
        "from sklearn.ensemble import GradientBoostingClassifier\n",
        "from sklearn.svm import LinearSVC\n",
        "from joblib import dump, load\n",
        "from sklearn import tree\n",
        "import numpy as np\n",
        "import pandas as pd\n",
        "import itertools\n",
        "import joblib "
      ],
      "execution_count": 1,
      "outputs": [
        {
          "output_type": "stream",
          "text": [
            "Requirement already up-to-date: scikit-learn in /usr/local/lib/python3.7/dist-packages (0.24.2)\n",
            "Requirement already satisfied, skipping upgrade: scipy>=0.19.1 in /usr/local/lib/python3.7/dist-packages (from scikit-learn) (1.4.1)\n",
            "Requirement already satisfied, skipping upgrade: joblib>=0.11 in /usr/local/lib/python3.7/dist-packages (from scikit-learn) (1.0.1)\n",
            "Requirement already satisfied, skipping upgrade: threadpoolctl>=2.0.0 in /usr/local/lib/python3.7/dist-packages (from scikit-learn) (2.1.0)\n",
            "Requirement already satisfied, skipping upgrade: numpy>=1.13.3 in /usr/local/lib/python3.7/dist-packages (from scikit-learn) (1.19.5)\n",
            "[nltk_data] Downloading package stopwords to /root/nltk_data...\n",
            "[nltk_data]   Package stopwords is already up-to-date!\n"
          ],
          "name": "stdout"
        }
      ]
    },
    {
      "cell_type": "code",
      "metadata": {
        "id": "QYpvu3C7OoQy"
      },
      "source": [
        "external = pd.read_csv('/content/drive/MyDrive/Senior Year Project/external_tweets.csv')\n",
        "collected = pd.read_csv('/content/drive/MyDrive/Senior Year Project/collected_tweets.csv')"
      ],
      "execution_count": 2,
      "outputs": []
    },
    {
      "cell_type": "code",
      "metadata": {
        "colab": {
          "base_uri": "https://localhost:8080/",
          "height": 195
        },
        "id": "k3F__ixkPJZW",
        "outputId": "849de906-5643-4f70-ffd6-faa5cc116323"
      },
      "source": [
        "external.head()"
      ],
      "execution_count": 3,
      "outputs": [
        {
          "output_type": "execute_result",
          "data": {
            "text/html": [
              "<div>\n",
              "<style scoped>\n",
              "    .dataframe tbody tr th:only-of-type {\n",
              "        vertical-align: middle;\n",
              "    }\n",
              "\n",
              "    .dataframe tbody tr th {\n",
              "        vertical-align: top;\n",
              "    }\n",
              "\n",
              "    .dataframe thead th {\n",
              "        text-align: right;\n",
              "    }\n",
              "</style>\n",
              "<table border=\"1\" class=\"dataframe\">\n",
              "  <thead>\n",
              "    <tr style=\"text-align: right;\">\n",
              "      <th></th>\n",
              "      <th>id</th>\n",
              "      <th>tweet</th>\n",
              "      <th>label</th>\n",
              "    </tr>\n",
              "  </thead>\n",
              "  <tbody>\n",
              "    <tr>\n",
              "      <th>0</th>\n",
              "      <td>1</td>\n",
              "      <td>The CDC currently reports 99031 deaths. In gen...</td>\n",
              "      <td>real</td>\n",
              "    </tr>\n",
              "    <tr>\n",
              "      <th>1</th>\n",
              "      <td>2</td>\n",
              "      <td>States reported 1121 deaths a small rise from ...</td>\n",
              "      <td>real</td>\n",
              "    </tr>\n",
              "    <tr>\n",
              "      <th>2</th>\n",
              "      <td>3</td>\n",
              "      <td>Politically Correct Woman (Almost) Uses Pandem...</td>\n",
              "      <td>fake</td>\n",
              "    </tr>\n",
              "    <tr>\n",
              "      <th>3</th>\n",
              "      <td>4</td>\n",
              "      <td>#IndiaFightsCorona: We have 1524 #COVID testin...</td>\n",
              "      <td>real</td>\n",
              "    </tr>\n",
              "    <tr>\n",
              "      <th>4</th>\n",
              "      <td>5</td>\n",
              "      <td>Populous states can generate large case counts...</td>\n",
              "      <td>real</td>\n",
              "    </tr>\n",
              "  </tbody>\n",
              "</table>\n",
              "</div>"
            ],
            "text/plain": [
              "   id                                              tweet label\n",
              "0   1  The CDC currently reports 99031 deaths. In gen...  real\n",
              "1   2  States reported 1121 deaths a small rise from ...  real\n",
              "2   3  Politically Correct Woman (Almost) Uses Pandem...  fake\n",
              "3   4  #IndiaFightsCorona: We have 1524 #COVID testin...  real\n",
              "4   5  Populous states can generate large case counts...  real"
            ]
          },
          "metadata": {
            "tags": []
          },
          "execution_count": 3
        }
      ]
    },
    {
      "cell_type": "code",
      "metadata": {
        "colab": {
          "base_uri": "https://localhost:8080/",
          "height": 195
        },
        "id": "YzxYXon2PK1u",
        "outputId": "40fe45e0-bd8a-4807-a126-1316b3113f47"
      },
      "source": [
        "collected.head()"
      ],
      "execution_count": 4,
      "outputs": [
        {
          "output_type": "execute_result",
          "data": {
            "text/html": [
              "<div>\n",
              "<style scoped>\n",
              "    .dataframe tbody tr th:only-of-type {\n",
              "        vertical-align: middle;\n",
              "    }\n",
              "\n",
              "    .dataframe tbody tr th {\n",
              "        vertical-align: top;\n",
              "    }\n",
              "\n",
              "    .dataframe thead th {\n",
              "        text-align: right;\n",
              "    }\n",
              "</style>\n",
              "<table border=\"1\" class=\"dataframe\">\n",
              "  <thead>\n",
              "    <tr style=\"text-align: right;\">\n",
              "      <th></th>\n",
              "      <th>Text</th>\n",
              "      <th>Label</th>\n",
              "      <th>Unnamed: 2</th>\n",
              "      <th>Unnamed: 3</th>\n",
              "    </tr>\n",
              "  </thead>\n",
              "  <tbody>\n",
              "    <tr>\n",
              "      <th>0</th>\n",
              "      <td>Hello everyone!!\\nStay in home\\nStay safe\\nBe ...</td>\n",
              "      <td>F</td>\n",
              "      <td>NaN</td>\n",
              "      <td>NaN</td>\n",
              "    </tr>\n",
              "    <tr>\n",
              "      <th>1</th>\n",
              "      <td>How many people died from #corona so far?Check...</td>\n",
              "      <td>F</td>\n",
              "      <td>NaN</td>\n",
              "      <td>NaN</td>\n",
              "    </tr>\n",
              "    <tr>\n",
              "      <th>2</th>\n",
              "      <td>Do Darr GYA woh Mar gya...\\n\\nPakistani people...</td>\n",
              "      <td>F</td>\n",
              "      <td>NaN</td>\n",
              "      <td>NaN</td>\n",
              "    </tr>\n",
              "    <tr>\n",
              "      <th>3</th>\n",
              "      <td>🇵🇰 Pakistan\\n\\n#Covid19: Slow spreading and im...</td>\n",
              "      <td>F</td>\n",
              "      <td>NaN</td>\n",
              "      <td>NaN</td>\n",
              "    </tr>\n",
              "    <tr>\n",
              "      <th>4</th>\n",
              "      <td>🇵🇰 Pakistan: ✨🔹✨✨✨⚪🔹✨✨🔹\\n\\nOfficial cases: 8,4...</td>\n",
              "      <td>F</td>\n",
              "      <td>NaN</td>\n",
              "      <td>NaN</td>\n",
              "    </tr>\n",
              "  </tbody>\n",
              "</table>\n",
              "</div>"
            ],
            "text/plain": [
              "                                                Text  ... Unnamed: 3\n",
              "0  Hello everyone!!\\nStay in home\\nStay safe\\nBe ...  ...        NaN\n",
              "1  How many people died from #corona so far?Check...  ...        NaN\n",
              "2  Do Darr GYA woh Mar gya...\\n\\nPakistani people...  ...        NaN\n",
              "3  🇵🇰 Pakistan\\n\\n#Covid19: Slow spreading and im...  ...        NaN\n",
              "4  🇵🇰 Pakistan: ✨🔹✨✨✨⚪🔹✨✨🔹\\n\\nOfficial cases: 8,4...  ...        NaN\n",
              "\n",
              "[5 rows x 4 columns]"
            ]
          },
          "metadata": {
            "tags": []
          },
          "execution_count": 4
        }
      ]
    },
    {
      "cell_type": "markdown",
      "metadata": {
        "id": "zu_SM9oPP5qg"
      },
      "source": [
        "Clean data"
      ]
    },
    {
      "cell_type": "code",
      "metadata": {
        "id": "HITc-VagPMBF"
      },
      "source": [
        "external.drop(columns=['id'], inplace=True)\n",
        "collected.drop(columns=['Unnamed: 2', 'Unnamed: 3'], inplace=True)"
      ],
      "execution_count": 5,
      "outputs": []
    },
    {
      "cell_type": "code",
      "metadata": {
        "colab": {
          "base_uri": "https://localhost:8080/"
        },
        "id": "6hLPMne6Tjya",
        "outputId": "05a33ec6-435b-430d-bbf2-31cf06598ef1"
      },
      "source": [
        "external.isnull().values.any()"
      ],
      "execution_count": 6,
      "outputs": [
        {
          "output_type": "execute_result",
          "data": {
            "text/plain": [
              "False"
            ]
          },
          "metadata": {
            "tags": []
          },
          "execution_count": 6
        }
      ]
    },
    {
      "cell_type": "code",
      "metadata": {
        "colab": {
          "base_uri": "https://localhost:8080/"
        },
        "id": "cci4uC_hTsgf",
        "outputId": "ba8c7a0d-00c6-427a-f5bf-5e2d198f3903"
      },
      "source": [
        "collected.isnull().values.any()"
      ],
      "execution_count": 7,
      "outputs": [
        {
          "output_type": "execute_result",
          "data": {
            "text/plain": [
              "True"
            ]
          },
          "metadata": {
            "tags": []
          },
          "execution_count": 7
        }
      ]
    },
    {
      "cell_type": "code",
      "metadata": {
        "colab": {
          "base_uri": "https://localhost:8080/"
        },
        "id": "tDlW61DHT1w2",
        "outputId": "98655014-aec2-41d0-cd06-1ff8a7cc8544"
      },
      "source": [
        "collected.isnull().sum()"
      ],
      "execution_count": 8,
      "outputs": [
        {
          "output_type": "execute_result",
          "data": {
            "text/plain": [
              "Text     714\n",
              "Label    714\n",
              "dtype: int64"
            ]
          },
          "metadata": {
            "tags": []
          },
          "execution_count": 8
        }
      ]
    },
    {
      "cell_type": "code",
      "metadata": {
        "id": "FHHYe3K5UKGU"
      },
      "source": [
        "collected.dropna(axis=0, how='any', inplace=True)"
      ],
      "execution_count": 9,
      "outputs": []
    },
    {
      "cell_type": "code",
      "metadata": {
        "colab": {
          "base_uri": "https://localhost:8080/"
        },
        "id": "atlJTbVfURSV",
        "outputId": "15d38301-73b3-4911-98ad-fc80625de4e7"
      },
      "source": [
        "collected.isnull().values.any()"
      ],
      "execution_count": 10,
      "outputs": [
        {
          "output_type": "execute_result",
          "data": {
            "text/plain": [
              "False"
            ]
          },
          "metadata": {
            "tags": []
          },
          "execution_count": 10
        }
      ]
    },
    {
      "cell_type": "code",
      "metadata": {
        "colab": {
          "base_uri": "https://localhost:8080/",
          "height": 195
        },
        "id": "7QPo6GvyPzKf",
        "outputId": "ff9b795a-52a1-4042-ce4b-159dd8e20515"
      },
      "source": [
        "external.head()"
      ],
      "execution_count": 11,
      "outputs": [
        {
          "output_type": "execute_result",
          "data": {
            "text/html": [
              "<div>\n",
              "<style scoped>\n",
              "    .dataframe tbody tr th:only-of-type {\n",
              "        vertical-align: middle;\n",
              "    }\n",
              "\n",
              "    .dataframe tbody tr th {\n",
              "        vertical-align: top;\n",
              "    }\n",
              "\n",
              "    .dataframe thead th {\n",
              "        text-align: right;\n",
              "    }\n",
              "</style>\n",
              "<table border=\"1\" class=\"dataframe\">\n",
              "  <thead>\n",
              "    <tr style=\"text-align: right;\">\n",
              "      <th></th>\n",
              "      <th>tweet</th>\n",
              "      <th>label</th>\n",
              "    </tr>\n",
              "  </thead>\n",
              "  <tbody>\n",
              "    <tr>\n",
              "      <th>0</th>\n",
              "      <td>The CDC currently reports 99031 deaths. In gen...</td>\n",
              "      <td>real</td>\n",
              "    </tr>\n",
              "    <tr>\n",
              "      <th>1</th>\n",
              "      <td>States reported 1121 deaths a small rise from ...</td>\n",
              "      <td>real</td>\n",
              "    </tr>\n",
              "    <tr>\n",
              "      <th>2</th>\n",
              "      <td>Politically Correct Woman (Almost) Uses Pandem...</td>\n",
              "      <td>fake</td>\n",
              "    </tr>\n",
              "    <tr>\n",
              "      <th>3</th>\n",
              "      <td>#IndiaFightsCorona: We have 1524 #COVID testin...</td>\n",
              "      <td>real</td>\n",
              "    </tr>\n",
              "    <tr>\n",
              "      <th>4</th>\n",
              "      <td>Populous states can generate large case counts...</td>\n",
              "      <td>real</td>\n",
              "    </tr>\n",
              "  </tbody>\n",
              "</table>\n",
              "</div>"
            ],
            "text/plain": [
              "                                               tweet label\n",
              "0  The CDC currently reports 99031 deaths. In gen...  real\n",
              "1  States reported 1121 deaths a small rise from ...  real\n",
              "2  Politically Correct Woman (Almost) Uses Pandem...  fake\n",
              "3  #IndiaFightsCorona: We have 1524 #COVID testin...  real\n",
              "4  Populous states can generate large case counts...  real"
            ]
          },
          "metadata": {
            "tags": []
          },
          "execution_count": 11
        }
      ]
    },
    {
      "cell_type": "code",
      "metadata": {
        "colab": {
          "base_uri": "https://localhost:8080/",
          "height": 195
        },
        "id": "kThYjNJQP0yV",
        "outputId": "1913852b-22c2-4377-d40b-b3307645c93c"
      },
      "source": [
        "collected.head()"
      ],
      "execution_count": 12,
      "outputs": [
        {
          "output_type": "execute_result",
          "data": {
            "text/html": [
              "<div>\n",
              "<style scoped>\n",
              "    .dataframe tbody tr th:only-of-type {\n",
              "        vertical-align: middle;\n",
              "    }\n",
              "\n",
              "    .dataframe tbody tr th {\n",
              "        vertical-align: top;\n",
              "    }\n",
              "\n",
              "    .dataframe thead th {\n",
              "        text-align: right;\n",
              "    }\n",
              "</style>\n",
              "<table border=\"1\" class=\"dataframe\">\n",
              "  <thead>\n",
              "    <tr style=\"text-align: right;\">\n",
              "      <th></th>\n",
              "      <th>Text</th>\n",
              "      <th>Label</th>\n",
              "    </tr>\n",
              "  </thead>\n",
              "  <tbody>\n",
              "    <tr>\n",
              "      <th>0</th>\n",
              "      <td>Hello everyone!!\\nStay in home\\nStay safe\\nBe ...</td>\n",
              "      <td>F</td>\n",
              "    </tr>\n",
              "    <tr>\n",
              "      <th>1</th>\n",
              "      <td>How many people died from #corona so far?Check...</td>\n",
              "      <td>F</td>\n",
              "    </tr>\n",
              "    <tr>\n",
              "      <th>2</th>\n",
              "      <td>Do Darr GYA woh Mar gya...\\n\\nPakistani people...</td>\n",
              "      <td>F</td>\n",
              "    </tr>\n",
              "    <tr>\n",
              "      <th>3</th>\n",
              "      <td>🇵🇰 Pakistan\\n\\n#Covid19: Slow spreading and im...</td>\n",
              "      <td>F</td>\n",
              "    </tr>\n",
              "    <tr>\n",
              "      <th>4</th>\n",
              "      <td>🇵🇰 Pakistan: ✨🔹✨✨✨⚪🔹✨✨🔹\\n\\nOfficial cases: 8,4...</td>\n",
              "      <td>F</td>\n",
              "    </tr>\n",
              "  </tbody>\n",
              "</table>\n",
              "</div>"
            ],
            "text/plain": [
              "                                                Text Label\n",
              "0  Hello everyone!!\\nStay in home\\nStay safe\\nBe ...     F\n",
              "1  How many people died from #corona so far?Check...     F\n",
              "2  Do Darr GYA woh Mar gya...\\n\\nPakistani people...     F\n",
              "3  🇵🇰 Pakistan\\n\\n#Covid19: Slow spreading and im...     F\n",
              "4  🇵🇰 Pakistan: ✨🔹✨✨✨⚪🔹✨✨🔹\\n\\nOfficial cases: 8,4...     F"
            ]
          },
          "metadata": {
            "tags": []
          },
          "execution_count": 12
        }
      ]
    },
    {
      "cell_type": "markdown",
      "metadata": {
        "id": "gYf5bVn7P8Si"
      },
      "source": [
        "Merging Datasets\n"
      ]
    },
    {
      "cell_type": "code",
      "metadata": {
        "id": "sLTYQRq6QUZz"
      },
      "source": [
        "collected.rename(columns = {'Text': 'tweet', 'Label': 'label'}, inplace = True)"
      ],
      "execution_count": 13,
      "outputs": []
    },
    {
      "cell_type": "code",
      "metadata": {
        "colab": {
          "base_uri": "https://localhost:8080/",
          "height": 195
        },
        "id": "sr7a8P4cQxp_",
        "outputId": "7f3a9a18-7286-4976-b6b8-15e3eb2cb4e4"
      },
      "source": [
        "collected.head()"
      ],
      "execution_count": 14,
      "outputs": [
        {
          "output_type": "execute_result",
          "data": {
            "text/html": [
              "<div>\n",
              "<style scoped>\n",
              "    .dataframe tbody tr th:only-of-type {\n",
              "        vertical-align: middle;\n",
              "    }\n",
              "\n",
              "    .dataframe tbody tr th {\n",
              "        vertical-align: top;\n",
              "    }\n",
              "\n",
              "    .dataframe thead th {\n",
              "        text-align: right;\n",
              "    }\n",
              "</style>\n",
              "<table border=\"1\" class=\"dataframe\">\n",
              "  <thead>\n",
              "    <tr style=\"text-align: right;\">\n",
              "      <th></th>\n",
              "      <th>tweet</th>\n",
              "      <th>label</th>\n",
              "    </tr>\n",
              "  </thead>\n",
              "  <tbody>\n",
              "    <tr>\n",
              "      <th>0</th>\n",
              "      <td>Hello everyone!!\\nStay in home\\nStay safe\\nBe ...</td>\n",
              "      <td>F</td>\n",
              "    </tr>\n",
              "    <tr>\n",
              "      <th>1</th>\n",
              "      <td>How many people died from #corona so far?Check...</td>\n",
              "      <td>F</td>\n",
              "    </tr>\n",
              "    <tr>\n",
              "      <th>2</th>\n",
              "      <td>Do Darr GYA woh Mar gya...\\n\\nPakistani people...</td>\n",
              "      <td>F</td>\n",
              "    </tr>\n",
              "    <tr>\n",
              "      <th>3</th>\n",
              "      <td>🇵🇰 Pakistan\\n\\n#Covid19: Slow spreading and im...</td>\n",
              "      <td>F</td>\n",
              "    </tr>\n",
              "    <tr>\n",
              "      <th>4</th>\n",
              "      <td>🇵🇰 Pakistan: ✨🔹✨✨✨⚪🔹✨✨🔹\\n\\nOfficial cases: 8,4...</td>\n",
              "      <td>F</td>\n",
              "    </tr>\n",
              "  </tbody>\n",
              "</table>\n",
              "</div>"
            ],
            "text/plain": [
              "                                               tweet label\n",
              "0  Hello everyone!!\\nStay in home\\nStay safe\\nBe ...     F\n",
              "1  How many people died from #corona so far?Check...     F\n",
              "2  Do Darr GYA woh Mar gya...\\n\\nPakistani people...     F\n",
              "3  🇵🇰 Pakistan\\n\\n#Covid19: Slow spreading and im...     F\n",
              "4  🇵🇰 Pakistan: ✨🔹✨✨✨⚪🔹✨✨🔹\\n\\nOfficial cases: 8,4...     F"
            ]
          },
          "metadata": {
            "tags": []
          },
          "execution_count": 14
        }
      ]
    },
    {
      "cell_type": "code",
      "metadata": {
        "id": "6QKkfVz7Q5Hd"
      },
      "source": [
        "new_label = [\"fake\" if x ==\"F\" else \"real\" for x in collected['label']]\n",
        "collected['label'] = new_label"
      ],
      "execution_count": 15,
      "outputs": []
    },
    {
      "cell_type": "code",
      "metadata": {
        "id": "JHUhStV8P107"
      },
      "source": [
        "finalDf = pd.concat([external, collected], axis=0)"
      ],
      "execution_count": 16,
      "outputs": []
    },
    {
      "cell_type": "code",
      "metadata": {
        "colab": {
          "base_uri": "https://localhost:8080/",
          "height": 195
        },
        "id": "lq1dkeHMSqpi",
        "outputId": "c34addd4-1170-47ae-a597-0589ac728eb7"
      },
      "source": [
        "finalDf.head()"
      ],
      "execution_count": 17,
      "outputs": [
        {
          "output_type": "execute_result",
          "data": {
            "text/html": [
              "<div>\n",
              "<style scoped>\n",
              "    .dataframe tbody tr th:only-of-type {\n",
              "        vertical-align: middle;\n",
              "    }\n",
              "\n",
              "    .dataframe tbody tr th {\n",
              "        vertical-align: top;\n",
              "    }\n",
              "\n",
              "    .dataframe thead th {\n",
              "        text-align: right;\n",
              "    }\n",
              "</style>\n",
              "<table border=\"1\" class=\"dataframe\">\n",
              "  <thead>\n",
              "    <tr style=\"text-align: right;\">\n",
              "      <th></th>\n",
              "      <th>tweet</th>\n",
              "      <th>label</th>\n",
              "    </tr>\n",
              "  </thead>\n",
              "  <tbody>\n",
              "    <tr>\n",
              "      <th>0</th>\n",
              "      <td>The CDC currently reports 99031 deaths. In gen...</td>\n",
              "      <td>real</td>\n",
              "    </tr>\n",
              "    <tr>\n",
              "      <th>1</th>\n",
              "      <td>States reported 1121 deaths a small rise from ...</td>\n",
              "      <td>real</td>\n",
              "    </tr>\n",
              "    <tr>\n",
              "      <th>2</th>\n",
              "      <td>Politically Correct Woman (Almost) Uses Pandem...</td>\n",
              "      <td>fake</td>\n",
              "    </tr>\n",
              "    <tr>\n",
              "      <th>3</th>\n",
              "      <td>#IndiaFightsCorona: We have 1524 #COVID testin...</td>\n",
              "      <td>real</td>\n",
              "    </tr>\n",
              "    <tr>\n",
              "      <th>4</th>\n",
              "      <td>Populous states can generate large case counts...</td>\n",
              "      <td>real</td>\n",
              "    </tr>\n",
              "  </tbody>\n",
              "</table>\n",
              "</div>"
            ],
            "text/plain": [
              "                                               tweet label\n",
              "0  The CDC currently reports 99031 deaths. In gen...  real\n",
              "1  States reported 1121 deaths a small rise from ...  real\n",
              "2  Politically Correct Woman (Almost) Uses Pandem...  fake\n",
              "3  #IndiaFightsCorona: We have 1524 #COVID testin...  real\n",
              "4  Populous states can generate large case counts...  real"
            ]
          },
          "metadata": {
            "tags": []
          },
          "execution_count": 17
        }
      ]
    },
    {
      "cell_type": "code",
      "metadata": {
        "id": "OU8lJ1gQSvVV"
      },
      "source": [
        "finalDf = finalDf.sample(frac=1).reset_index(drop=True)"
      ],
      "execution_count": 18,
      "outputs": []
    },
    {
      "cell_type": "code",
      "metadata": {
        "colab": {
          "base_uri": "https://localhost:8080/",
          "height": 195
        },
        "id": "Pt_r-Hh8Uogb",
        "outputId": "37cd1358-162e-439d-e4a0-8c48cffd4444"
      },
      "source": [
        "finalDf.head()"
      ],
      "execution_count": 19,
      "outputs": [
        {
          "output_type": "execute_result",
          "data": {
            "text/html": [
              "<div>\n",
              "<style scoped>\n",
              "    .dataframe tbody tr th:only-of-type {\n",
              "        vertical-align: middle;\n",
              "    }\n",
              "\n",
              "    .dataframe tbody tr th {\n",
              "        vertical-align: top;\n",
              "    }\n",
              "\n",
              "    .dataframe thead th {\n",
              "        text-align: right;\n",
              "    }\n",
              "</style>\n",
              "<table border=\"1\" class=\"dataframe\">\n",
              "  <thead>\n",
              "    <tr style=\"text-align: right;\">\n",
              "      <th></th>\n",
              "      <th>tweet</th>\n",
              "      <th>label</th>\n",
              "    </tr>\n",
              "  </thead>\n",
              "  <tbody>\n",
              "    <tr>\n",
              "      <th>0</th>\n",
              "      <td>Weighing risk vs reward on human challenge tri...</td>\n",
              "      <td>real</td>\n",
              "    </tr>\n",
              "    <tr>\n",
              "      <th>1</th>\n",
              "      <td>God Has Coronavirus https://t.co/7Nh5G7mEqw #r...</td>\n",
              "      <td>fake</td>\n",
              "    </tr>\n",
              "    <tr>\n",
              "      <th>2</th>\n",
              "      <td>That brings New Zealand’s total number of acti...</td>\n",
              "      <td>real</td>\n",
              "    </tr>\n",
              "    <tr>\n",
              "      <th>3</th>\n",
              "      <td>@drdavidsamadi Dr. Samadi, do you believe Covi...</td>\n",
              "      <td>fake</td>\n",
              "    </tr>\n",
              "    <tr>\n",
              "      <th>4</th>\n",
              "      <td>Mumbai now has a state-of-the-art #COVID19 tes...</td>\n",
              "      <td>real</td>\n",
              "    </tr>\n",
              "  </tbody>\n",
              "</table>\n",
              "</div>"
            ],
            "text/plain": [
              "                                               tweet label\n",
              "0  Weighing risk vs reward on human challenge tri...  real\n",
              "1  God Has Coronavirus https://t.co/7Nh5G7mEqw #r...  fake\n",
              "2  That brings New Zealand’s total number of acti...  real\n",
              "3  @drdavidsamadi Dr. Samadi, do you believe Covi...  fake\n",
              "4  Mumbai now has a state-of-the-art #COVID19 tes...  real"
            ]
          },
          "metadata": {
            "tags": []
          },
          "execution_count": 19
        }
      ]
    },
    {
      "cell_type": "code",
      "metadata": {
        "id": "uCpUVaqnUtmT"
      },
      "source": [
        "stopwords = set(stopwords.words(\"english\"))\n",
        "def cleantext(text):\n",
        "    # convert to lower case\n",
        "    text = text.str.lower()\n",
        "    # removing urls and punctuation\n",
        "    text = text.apply(lambda x: ' '.join(re.sub(\"([^0-9A-Za-z \\t])|(\\w+:\\/\\/\\S+)\",\" \",x).split()))\n",
        "    # removing &\n",
        "    text = text.apply(lambda x: ' '.join(re.sub(\"&\", \"and\", x).split()))\n",
        "    # removing stop words\n",
        "    text = text.apply(lambda x: ' '.join([word for word in x.split() if not word in stopwords]))\n",
        "    \n",
        "    return text"
      ],
      "execution_count": 20,
      "outputs": []
    },
    {
      "cell_type": "code",
      "metadata": {
        "id": "abmHck7gU1bf"
      },
      "source": [
        "finalDf['tweet'] = cleantext(finalDf['tweet'])"
      ],
      "execution_count": 21,
      "outputs": []
    },
    {
      "cell_type": "code",
      "metadata": {
        "colab": {
          "base_uri": "https://localhost:8080/",
          "height": 402
        },
        "id": "UrZFO1eNU8zi",
        "outputId": "d60def8a-f504-491a-bfe5-96ac39125303"
      },
      "source": [
        "display(finalDf)"
      ],
      "execution_count": 22,
      "outputs": [
        {
          "output_type": "display_data",
          "data": {
            "text/html": [
              "<div>\n",
              "<style scoped>\n",
              "    .dataframe tbody tr th:only-of-type {\n",
              "        vertical-align: middle;\n",
              "    }\n",
              "\n",
              "    .dataframe tbody tr th {\n",
              "        vertical-align: top;\n",
              "    }\n",
              "\n",
              "    .dataframe thead th {\n",
              "        text-align: right;\n",
              "    }\n",
              "</style>\n",
              "<table border=\"1\" class=\"dataframe\">\n",
              "  <thead>\n",
              "    <tr style=\"text-align: right;\">\n",
              "      <th></th>\n",
              "      <th>tweet</th>\n",
              "      <th>label</th>\n",
              "    </tr>\n",
              "  </thead>\n",
              "  <tbody>\n",
              "    <tr>\n",
              "      <th>0</th>\n",
              "      <td>weighing risk vs reward human challenge trials...</td>\n",
              "      <td>real</td>\n",
              "    </tr>\n",
              "    <tr>\n",
              "      <th>1</th>\n",
              "      <td>god coronavirus religion god coronavirus</td>\n",
              "      <td>fake</td>\n",
              "    </tr>\n",
              "    <tr>\n",
              "      <th>2</th>\n",
              "      <td>brings new zealand total number active cases 1...</td>\n",
              "      <td>real</td>\n",
              "    </tr>\n",
              "    <tr>\n",
              "      <th>3</th>\n",
              "      <td>drdavidsamadi dr samadi believe covid 19 bio e...</td>\n",
              "      <td>fake</td>\n",
              "    </tr>\n",
              "    <tr>\n",
              "      <th>4</th>\n",
              "      <td>mumbai state art covid19 testing facility icmr...</td>\n",
              "      <td>real</td>\n",
              "    </tr>\n",
              "    <tr>\n",
              "      <th>...</th>\n",
              "      <td>...</td>\n",
              "      <td>...</td>\n",
              "    </tr>\n",
              "    <tr>\n",
              "      <th>10800</th>\n",
              "      <td>goggles face shields universally recommended f...</td>\n",
              "      <td>real</td>\n",
              "    </tr>\n",
              "    <tr>\n",
              "      <th>10801</th>\n",
              "      <td>consistency new guidelines managing rheumatic ...</td>\n",
              "      <td>real</td>\n",
              "    </tr>\n",
              "    <tr>\n",
              "      <th>10802</th>\n",
              "      <td>trumps nude statue made new york city anger am...</td>\n",
              "      <td>fake</td>\n",
              "    </tr>\n",
              "    <tr>\n",
              "      <th>10803</th>\n",
              "      <td>new doctors featured viral video coronavirus p...</td>\n",
              "      <td>fake</td>\n",
              "    </tr>\n",
              "    <tr>\n",
              "      <th>10804</th>\n",
              "      <td>wuhan super virus created chinese biosecurity ...</td>\n",
              "      <td>fake</td>\n",
              "    </tr>\n",
              "  </tbody>\n",
              "</table>\n",
              "<p>10805 rows × 2 columns</p>\n",
              "</div>"
            ],
            "text/plain": [
              "                                                   tweet label\n",
              "0      weighing risk vs reward human challenge trials...  real\n",
              "1               god coronavirus religion god coronavirus  fake\n",
              "2      brings new zealand total number active cases 1...  real\n",
              "3      drdavidsamadi dr samadi believe covid 19 bio e...  fake\n",
              "4      mumbai state art covid19 testing facility icmr...  real\n",
              "...                                                  ...   ...\n",
              "10800  goggles face shields universally recommended f...  real\n",
              "10801  consistency new guidelines managing rheumatic ...  real\n",
              "10802  trumps nude statue made new york city anger am...  fake\n",
              "10803  new doctors featured viral video coronavirus p...  fake\n",
              "10804  wuhan super virus created chinese biosecurity ...  fake\n",
              "\n",
              "[10805 rows x 2 columns]"
            ]
          },
          "metadata": {
            "tags": []
          }
        }
      ]
    },
    {
      "cell_type": "markdown",
      "metadata": {
        "id": "w21TsyJ8VIJR"
      },
      "source": [
        "EDA"
      ]
    },
    {
      "cell_type": "code",
      "metadata": {
        "id": "FE6FCm1vVHL6",
        "colab": {
          "base_uri": "https://localhost:8080/",
          "height": 296
        },
        "outputId": "7da40339-b060-49d3-e2e7-2ef19a0aa16b"
      },
      "source": [
        "sns.countplot(x = 'label', data= finalDf)"
      ],
      "execution_count": 23,
      "outputs": [
        {
          "output_type": "execute_result",
          "data": {
            "text/plain": [
              "<matplotlib.axes._subplots.AxesSubplot at 0x7f16692226d0>"
            ]
          },
          "metadata": {
            "tags": []
          },
          "execution_count": 23
        },
        {
          "output_type": "display_data",
          "data": {
            "image/png": "[encoded data removed]",
            "text/plain": [
              "<Figure size 432x288 with 1 Axes>"
            ]
          },
          "metadata": {
            "tags": [],
            "needs_background": "light"
          }
        }
      ]
    },
    {
      "cell_type": "code",
      "metadata": {
        "id": "uR8EXVOqU915"
      },
      "source": [
        "finalDf[\"num_tokens\"] = finalDf[\"tweet\"].map(lambda text: re.sub(r\"[^a-zA-Z0-9' ]\", ' ', str(text))).map(lambda text: len(text.split()))"
      ],
      "execution_count": 24,
      "outputs": []
    },
    {
      "cell_type": "code",
      "metadata": {
        "colab": {
          "base_uri": "https://localhost:8080/",
          "height": 195
        },
        "id": "FDvsHAntWmFN",
        "outputId": "fa1a4842-acd0-4faf-d71d-dfacb9dcb8fc"
      },
      "source": [
        "finalDf.head()"
      ],
      "execution_count": 25,
      "outputs": [
        {
          "output_type": "execute_result",
          "data": {
            "text/html": [
              "<div>\n",
              "<style scoped>\n",
              "    .dataframe tbody tr th:only-of-type {\n",
              "        vertical-align: middle;\n",
              "    }\n",
              "\n",
              "    .dataframe tbody tr th {\n",
              "        vertical-align: top;\n",
              "    }\n",
              "\n",
              "    .dataframe thead th {\n",
              "        text-align: right;\n",
              "    }\n",
              "</style>\n",
              "<table border=\"1\" class=\"dataframe\">\n",
              "  <thead>\n",
              "    <tr style=\"text-align: right;\">\n",
              "      <th></th>\n",
              "      <th>tweet</th>\n",
              "      <th>label</th>\n",
              "      <th>num_tokens</th>\n",
              "    </tr>\n",
              "  </thead>\n",
              "  <tbody>\n",
              "    <tr>\n",
              "      <th>0</th>\n",
              "      <td>weighing risk vs reward human challenge trials...</td>\n",
              "      <td>real</td>\n",
              "      <td>9</td>\n",
              "    </tr>\n",
              "    <tr>\n",
              "      <th>1</th>\n",
              "      <td>god coronavirus religion god coronavirus</td>\n",
              "      <td>fake</td>\n",
              "      <td>5</td>\n",
              "    </tr>\n",
              "    <tr>\n",
              "      <th>2</th>\n",
              "      <td>brings new zealand total number active cases 1...</td>\n",
              "      <td>real</td>\n",
              "      <td>24</td>\n",
              "    </tr>\n",
              "    <tr>\n",
              "      <th>3</th>\n",
              "      <td>drdavidsamadi dr samadi believe covid 19 bio e...</td>\n",
              "      <td>fake</td>\n",
              "      <td>8</td>\n",
              "    </tr>\n",
              "    <tr>\n",
              "      <th>4</th>\n",
              "      <td>mumbai state art covid19 testing facility icmr...</td>\n",
              "      <td>real</td>\n",
              "      <td>26</td>\n",
              "    </tr>\n",
              "  </tbody>\n",
              "</table>\n",
              "</div>"
            ],
            "text/plain": [
              "                                               tweet label  num_tokens\n",
              "0  weighing risk vs reward human challenge trials...  real           9\n",
              "1           god coronavirus religion god coronavirus  fake           5\n",
              "2  brings new zealand total number active cases 1...  real          24\n",
              "3  drdavidsamadi dr samadi believe covid 19 bio e...  fake           8\n",
              "4  mumbai state art covid19 testing facility icmr...  real          26"
            ]
          },
          "metadata": {
            "tags": []
          },
          "execution_count": 25
        }
      ]
    },
    {
      "cell_type": "code",
      "metadata": {
        "colab": {
          "base_uri": "https://localhost:8080/",
          "height": 279
        },
        "id": "4C9Gquw-Vtp5",
        "outputId": "6775bb56-2dca-4bed-8e05-96a78ca690ef"
      },
      "source": [
        "plt.hist(x=finalDf[\"num_tokens\"], bins='auto')\n",
        "plt.xlabel(\"Number of Tokens\")\n",
        "plt.ylabel(\"frequency\")\n",
        "plt.xlim([0, 80])\n",
        "plt.show()"
      ],
      "execution_count": 26,
      "outputs": [
        {
          "output_type": "display_data",
          "data": {
            "image/png": "[encoded data removed]",
            "text/plain": [
              "<Figure size 432x288 with 1 Axes>"
            ]
          },
          "metadata": {
            "tags": [],
            "needs_background": "light"
          }
        }
      ]
    },
    {
      "cell_type": "code",
      "metadata": {
        "id": "12hwoqhbV0MY"
      },
      "source": [
        "finalDf.drop(columns=['num_tokens'], inplace=True)"
      ],
      "execution_count": 27,
      "outputs": []
    },
    {
      "cell_type": "markdown",
      "metadata": {
        "id": "E0JtGFf4X2K6"
      },
      "source": [
        "####Splitting Dataframe into Train, Test and Validation"
      ]
    },
    {
      "cell_type": "code",
      "metadata": {
        "id": "ChDIr2BqXXxL"
      },
      "source": [
        "df_train, df_test = train_test_split(finalDf, test_size=0.2, random_state=1)\n",
        "df_train, df_val = train_test_split(finalDf, test_size=0.25, random_state=1)"
      ],
      "execution_count": 28,
      "outputs": []
    },
    {
      "cell_type": "code",
      "metadata": {
        "colab": {
          "base_uri": "https://localhost:8080/",
          "height": 296
        },
        "id": "wifNOBqMX8nq",
        "outputId": "a64225cd-7066-45c2-d06c-7e610b1c1191"
      },
      "source": [
        "sns.countplot(x=\"label\", data=df_train)"
      ],
      "execution_count": 29,
      "outputs": [
        {
          "output_type": "execute_result",
          "data": {
            "text/plain": [
              "<matplotlib.axes._subplots.AxesSubplot at 0x7f1667939e10>"
            ]
          },
          "metadata": {
            "tags": []
          },
          "execution_count": 29
        },
        {
          "output_type": "display_data",
          "data": {
            "image/png": "[encoded data removed]",
            "text/plain": [
              "<Figure size 432x288 with 1 Axes>"
            ]
          },
          "metadata": {
            "tags": [],
            "needs_background": "light"
          }
        }
      ]
    },
    {
      "cell_type": "markdown",
      "metadata": {
        "id": "MhWhl580YPlo"
      },
      "source": [
        "Since the training data is unequal, hence our results will be biased. So we need to resample till its balanced."
      ]
    },
    {
      "cell_type": "code",
      "metadata": {
        "id": "wo9SZe5GYMb4"
      },
      "source": [
        "  dfs = []\n",
        "\n",
        "  for label in df_train[\"label\"].value_counts().keys():\n",
        "    df_group = df_train[df_train[\"label\"] == label]\n",
        "    df_group_undersampled = resample(df_group, replace=False, n_samples=3500, random_state=0)\n",
        "    dfs.append(df_group_undersampled)\n",
        "\n",
        "  df_train_new = pd.concat(dfs).sample(frac=1, random_state=0)"
      ],
      "execution_count": 30,
      "outputs": []
    },
    {
      "cell_type": "code",
      "metadata": {
        "id": "ccXEbLMGYYeE"
      },
      "source": [
        "df_train = df_train_new"
      ],
      "execution_count": 31,
      "outputs": []
    },
    {
      "cell_type": "code",
      "metadata": {
        "colab": {
          "base_uri": "https://localhost:8080/",
          "height": 296
        },
        "id": "Cjm0XUGqYkMj",
        "outputId": "78012a4b-8f75-44cf-f2bb-688b07050f2f"
      },
      "source": [
        "sns.countplot(x=\"label\", data=df_train)"
      ],
      "execution_count": 32,
      "outputs": [
        {
          "output_type": "execute_result",
          "data": {
            "text/plain": [
              "<matplotlib.axes._subplots.AxesSubplot at 0x7f166790e710>"
            ]
          },
          "metadata": {
            "tags": []
          },
          "execution_count": 32
        },
        {
          "output_type": "display_data",
          "data": {
            "image/png": "[encoded data removed]",
            "text/plain": [
              "<Figure size 432x288 with 1 Axes>"
            ]
          },
          "metadata": {
            "tags": [],
            "needs_background": "light"
          }
        }
      ]
    },
    {
      "cell_type": "code",
      "metadata": {
        "colab": {
          "base_uri": "https://localhost:8080/",
          "height": 296
        },
        "id": "RAvSEDkfYmt3",
        "outputId": "0c1249fa-7520-45c3-8d0d-5bdb33f76df6"
      },
      "source": [
        "sns.countplot(x=\"label\", data=df_val)"
      ],
      "execution_count": 33,
      "outputs": [
        {
          "output_type": "execute_result",
          "data": {
            "text/plain": [
              "<matplotlib.axes._subplots.AxesSubplot at 0x7f16678ef350>"
            ]
          },
          "metadata": {
            "tags": []
          },
          "execution_count": 33
        },
        {
          "output_type": "display_data",
          "data": {
            "image/png": "[encoded data removed]",
            "text/plain": [
              "<Figure size 432x288 with 1 Axes>"
            ]
          },
          "metadata": {
            "tags": [],
            "needs_background": "light"
          }
        }
      ]
    },
    {
      "cell_type": "code",
      "metadata": {
        "colab": {
          "base_uri": "https://localhost:8080/",
          "height": 296
        },
        "id": "G_YPAQ0SYp2R",
        "outputId": "64e85578-bd69-4e41-868b-037689704ee6"
      },
      "source": [
        "sns.countplot(x=\"label\", data=df_test)"
      ],
      "execution_count": 34,
      "outputs": [
        {
          "output_type": "execute_result",
          "data": {
            "text/plain": [
              "<matplotlib.axes._subplots.AxesSubplot at 0x7f16678578d0>"
            ]
          },
          "metadata": {
            "tags": []
          },
          "execution_count": 34
        },
        {
          "output_type": "display_data",
          "data": {
            "image/png": "[encoded data removed]",
            "text/plain": [
              "<Figure size 432x288 with 1 Axes>"
            ]
          },
          "metadata": {
            "tags": [],
            "needs_background": "light"
          }
        }
      ]
    },
    {
      "cell_type": "markdown",
      "metadata": {
        "id": "5HVRtIhPYxPr"
      },
      "source": [
        "####Vectorization\n"
      ]
    },
    {
      "cell_type": "code",
      "metadata": {
        "colab": {
          "base_uri": "https://localhost:8080/"
        },
        "id": "33TV6iskYskN",
        "outputId": "912f06d4-7720-4c31-dced-29e772060849"
      },
      "source": [
        "vector_count = CountVectorizer(min_df=3, ngram_range=(1, 2))\n",
        "X_train = vector_count.fit_transform(df_train['tweet'].values.astype('U')) \n",
        "print(X_train.shape)"
      ],
      "execution_count": 35,
      "outputs": [
        {
          "output_type": "stream",
          "text": [
            "(7000, 10036)\n"
          ],
          "name": "stdout"
        }
      ]
    },
    {
      "cell_type": "code",
      "metadata": {
        "colab": {
          "base_uri": "https://localhost:8080/"
        },
        "id": "HgZVjqUZYzcu",
        "outputId": "32d0fc30-3d92-414f-b110-12de564afdd3"
      },
      "source": [
        "X_val = vector_count.transform(df_val['tweet'])\n",
        "print(X_val.shape) "
      ],
      "execution_count": 36,
      "outputs": [
        {
          "output_type": "stream",
          "text": [
            "(2702, 10036)\n"
          ],
          "name": "stdout"
        }
      ]
    },
    {
      "cell_type": "code",
      "metadata": {
        "colab": {
          "base_uri": "https://localhost:8080/"
        },
        "id": "SsmUISjLZFXF",
        "outputId": "d8da8de0-30c2-4eb8-e835-65120188ca9f"
      },
      "source": [
        "X_test = vector_count.transform(df_test['tweet'])\n",
        "print(X_test.shape)"
      ],
      "execution_count": 37,
      "outputs": [
        {
          "output_type": "stream",
          "text": [
            "(2161, 10036)\n"
          ],
          "name": "stdout"
        }
      ]
    },
    {
      "cell_type": "code",
      "metadata": {
        "id": "xivwW6KpZGOQ"
      },
      "source": [
        "y_train = pd.get_dummies(df_train['label'])['fake']\n",
        "y_val = pd.get_dummies(df_val['label'])['fake']\n",
        "y_test = pd.get_dummies(df_test['label'])['fake']"
      ],
      "execution_count": 38,
      "outputs": []
    },
    {
      "cell_type": "markdown",
      "metadata": {
        "id": "W5gOLgftZR7E"
      },
      "source": [
        "####Machine Learning"
      ]
    },
    {
      "cell_type": "code",
      "metadata": {
        "id": "RUsNRUlJZNZr"
      },
      "source": [
        "def print_metrices(classifier, X_test, pred, true):\n",
        "    print(classification_report(true,pred))\n",
        "    print(\"Accuracy : \",accuracy_score(true, pred))\n",
        "    print(\"Precison : \",precision_score(true, pred , average = 'weighted'))\n",
        "    print(\"Recall : \",recall_score(true, pred,  average = 'weighted'))\n",
        "    print(\"F1 : \",f1_score(true, pred,  average = 'weighted'))\n",
        "    print(\"Mean Squared Error (MSE):\", mean_squared_error(true, pred))\n",
        "    print(\"Root Mean Squared Error (RMSE):\", mean_squared_error(true, pred, squared=False))\n",
        "    disp = plot_confusion_matrix(classifier, X_test, true, cmap=plt.cm.YlGnBu, normalize='true')\n",
        "    plt.show()\n",
        "    print()"
      ],
      "execution_count": 39,
      "outputs": []
    },
    {
      "cell_type": "code",
      "metadata": {
        "id": "8dDB18DwZUVU"
      },
      "source": [
        "def evaluate(classifier, X_train, y_train, X_val, y_val, X_test, y_test):\n",
        "    print(\"Training Scores:\")\n",
        "    print_metrices(classifier, X_train, classifier.predict(X_train), y_train)\n",
        "    print(\"Validation Scores:\")\n",
        "    print_metrices(classifier, X_val, classifier.predict(X_val), y_val)"
      ],
      "execution_count": 40,
      "outputs": []
    },
    {
      "cell_type": "markdown",
      "metadata": {
        "id": "06yQgK6EZgDi"
      },
      "source": [
        "Naive Bayes"
      ]
    },
    {
      "cell_type": "code",
      "metadata": {
        "colab": {
          "base_uri": "https://localhost:8080/",
          "height": 1000
        },
        "id": "2TWPLjWPZWPU",
        "outputId": "aa2249e5-5f4b-4922-bdc7-d031cc5b1bd9"
      },
      "source": [
        "clf_nb = MultinomialNB()\n",
        "clf_nb.fit(X_train, y_train)\n",
        "evaluate(clf_nb, X_train, y_train, X_val, y_val, X_test, y_test)"
      ],
      "execution_count": 41,
      "outputs": [
        {
          "output_type": "stream",
          "text": [
            "Training Scores:\n",
            "              precision    recall  f1-score   support\n",
            "\n",
            "           0       0.97      0.90      0.93      3500\n",
            "           1       0.91      0.97      0.94      3500\n",
            "\n",
            "    accuracy                           0.94      7000\n",
            "   macro avg       0.94      0.94      0.94      7000\n",
            "weighted avg       0.94      0.94      0.94      7000\n",
            "\n",
            "Accuracy :  0.9372857142857143\n",
            "Precison :  0.9396934757589706\n",
            "Recall :  0.9372857142857143\n",
            "F1 :  0.9371997407307747\n",
            "Mean Squared Error (MSE): 0.06271428571428571\n",
            "Root Mean Squared Error (RMSE): 0.250428204710024\n"
          ],
          "name": "stdout"
        },
        {
          "output_type": "display_data",
          "data": {
            "image/png": "[encoded data removed]",
            "text/plain": [
              "<Figure size 432x288 with 2 Axes>"
            ]
          },
          "metadata": {
            "tags": [],
            "needs_background": "light"
          }
        },
        {
          "output_type": "stream",
          "text": [
            "\n",
            "Validation Scores:\n",
            "              precision    recall  f1-score   support\n",
            "\n",
            "           0       0.95      0.89      0.92      1447\n",
            "           1       0.88      0.95      0.91      1255\n",
            "\n",
            "    accuracy                           0.91      2702\n",
            "   macro avg       0.91      0.92      0.91      2702\n",
            "weighted avg       0.92      0.91      0.91      2702\n",
            "\n",
            "Accuracy :  0.9148778682457439\n",
            "Precison :  0.9172136999255384\n",
            "Recall :  0.9148778682457439\n",
            "F1 :  0.9149852807632302\n",
            "Mean Squared Error (MSE): 0.0851221317542561\n",
            "Root Mean Squared Error (RMSE): 0.2917569737885559\n"
          ],
          "name": "stdout"
        },
        {
          "output_type": "display_data",
          "data": {
            "image/png": "[encoded data removed]",
            "text/plain": [
              "<Figure size 432x288 with 2 Axes>"
            ]
          },
          "metadata": {
            "tags": [],
            "needs_background": "light"
          }
        },
        {
          "output_type": "stream",
          "text": [
            "\n"
          ],
          "name": "stdout"
        }
      ]
    },
    {
      "cell_type": "markdown",
      "metadata": {
        "id": "AcImkc3SgRqN"
      },
      "source": [
        "Logistic Regression"
      ]
    },
    {
      "cell_type": "code",
      "metadata": {
        "colab": {
          "base_uri": "https://localhost:8080/",
          "height": 1000
        },
        "id": "o5fohBHbgUJU",
        "outputId": "bf5cc540-5ea5-4763-d9ab-4fe8b9d1d9f7"
      },
      "source": [
        "clf_lr = LogisticRegression(solver='lbfgs', C=0.05)\n",
        "clf_lr.fit(X_train, y_train)\n",
        "evaluate(clf_lr, X_train, y_train, X_val, y_val, X_test, y_test)"
      ],
      "execution_count": 42,
      "outputs": [
        {
          "output_type": "stream",
          "text": [
            "Training Scores:\n",
            "              precision    recall  f1-score   support\n",
            "\n",
            "           0       0.97      0.90      0.93      3500\n",
            "           1       0.90      0.97      0.93      3500\n",
            "\n",
            "    accuracy                           0.93      7000\n",
            "   macro avg       0.93      0.93      0.93      7000\n",
            "weighted avg       0.93      0.93      0.93      7000\n",
            "\n",
            "Accuracy :  0.9321428571428572\n",
            "Precison :  0.9344854965355656\n",
            "Recall :  0.9321428571428572\n",
            "F1 :  0.9320512664101045\n",
            "Mean Squared Error (MSE): 0.06785714285714285\n",
            "Root Mean Squared Error (RMSE): 0.26049403612586386\n"
          ],
          "name": "stdout"
        },
        {
          "output_type": "display_data",
          "data": {
            "image/png": "[encoded data removed]",
            "text/plain": [
              "<Figure size 432x288 with 2 Axes>"
            ]
          },
          "metadata": {
            "tags": [],
            "needs_background": "light"
          }
        },
        {
          "output_type": "stream",
          "text": [
            "\n",
            "Validation Scores:\n",
            "              precision    recall  f1-score   support\n",
            "\n",
            "           0       0.96      0.87      0.91      1447\n",
            "           1       0.87      0.96      0.91      1255\n",
            "\n",
            "    accuracy                           0.91      2702\n",
            "   macro avg       0.91      0.92      0.91      2702\n",
            "weighted avg       0.92      0.91      0.91      2702\n",
            "\n",
            "Accuracy :  0.9122871946706144\n",
            "Precison :  0.9167709909418179\n",
            "Recall :  0.9122871946706144\n",
            "F1 :  0.9123832485358901\n",
            "Mean Squared Error (MSE): 0.08771280532938563\n",
            "Root Mean Squared Error (RMSE): 0.2961634773725242\n"
          ],
          "name": "stdout"
        },
        {
          "output_type": "display_data",
          "data": {
            "image/png": "[encoded data removed]",
            "text/plain": [
              "<Figure size 432x288 with 2 Axes>"
            ]
          },
          "metadata": {
            "tags": [],
            "needs_background": "light"
          }
        },
        {
          "output_type": "stream",
          "text": [
            "\n"
          ],
          "name": "stdout"
        }
      ]
    },
    {
      "cell_type": "markdown",
      "metadata": {
        "id": "O1bwHaIegZLe"
      },
      "source": [
        "Decision Trees\n"
      ]
    },
    {
      "cell_type": "code",
      "metadata": {
        "colab": {
          "base_uri": "https://localhost:8080/",
          "height": 1000
        },
        "id": "sKePfVbUgZYS",
        "outputId": "14e293ec-d3db-4b8a-948b-9febed35b3b4"
      },
      "source": [
        "clf_dt = DecisionTreeClassifier()\n",
        "clf_dt.fit(X_train, y_train)\n",
        "evaluate(clf_dt, X_train, y_train, X_val, y_val, X_test, y_test)"
      ],
      "execution_count": 43,
      "outputs": [
        {
          "output_type": "stream",
          "text": [
            "Training Scores:\n",
            "              precision    recall  f1-score   support\n",
            "\n",
            "           0       1.00      1.00      1.00      3500\n",
            "           1       1.00      1.00      1.00      3500\n",
            "\n",
            "    accuracy                           1.00      7000\n",
            "   macro avg       1.00      1.00      1.00      7000\n",
            "weighted avg       1.00      1.00      1.00      7000\n",
            "\n",
            "Accuracy :  0.9997142857142857\n",
            "Precison :  0.9997142857142857\n",
            "Recall :  0.9997142857142857\n",
            "F1 :  0.9997142857142857\n",
            "Mean Squared Error (MSE): 0.00028571428571428574\n",
            "Root Mean Squared Error (RMSE): 0.016903085094570332\n"
          ],
          "name": "stdout"
        },
        {
          "output_type": "display_data",
          "data": {
            "image/png": "[encoded data removed]",
            "text/plain": [
              "<Figure size 432x288 with 2 Axes>"
            ]
          },
          "metadata": {
            "tags": [],
            "needs_background": "light"
          }
        },
        {
          "output_type": "stream",
          "text": [
            "\n",
            "Validation Scores:\n",
            "              precision    recall  f1-score   support\n",
            "\n",
            "           0       0.89      0.87      0.88      1447\n",
            "           1       0.85      0.87      0.86      1255\n",
            "\n",
            "    accuracy                           0.87      2702\n",
            "   macro avg       0.87      0.87      0.87      2702\n",
            "weighted avg       0.87      0.87      0.87      2702\n",
            "\n",
            "Accuracy :  0.8700962250185048\n",
            "Precison :  0.8703945939534293\n",
            "Recall :  0.8700962250185048\n",
            "F1 :  0.8701707959794672\n",
            "Mean Squared Error (MSE): 0.1299037749814952\n",
            "Root Mean Squared Error (RMSE): 0.3604216627528029\n"
          ],
          "name": "stdout"
        },
        {
          "output_type": "display_data",
          "data": {
            "image/png": "[encoded data removed]",
            "text/plain": [
              "<Figure size 432x288 with 2 Axes>"
            ]
          },
          "metadata": {
            "tags": [],
            "needs_background": "light"
          }
        },
        {
          "output_type": "stream",
          "text": [
            "\n"
          ],
          "name": "stdout"
        }
      ]
    },
    {
      "cell_type": "markdown",
      "metadata": {
        "id": "VfoZ3l_tgfz7"
      },
      "source": [
        "Gradient Boosting"
      ]
    },
    {
      "cell_type": "code",
      "metadata": {
        "colab": {
          "base_uri": "https://localhost:8080/",
          "height": 1000
        },
        "id": "-iOtoYsNghV0",
        "outputId": "429a7f85-5bf2-429b-f7db-57a70dbceeba"
      },
      "source": [
        "clf_xgb = GradientBoostingClassifier()\n",
        "clf_xgb.fit(X_train, y_train)\n",
        "evaluate(clf_xgb, X_train, y_train, X_val, y_val, X_test, y_test)"
      ],
      "execution_count": 44,
      "outputs": [
        {
          "output_type": "stream",
          "text": [
            "Training Scores:\n",
            "              precision    recall  f1-score   support\n",
            "\n",
            "           0       0.92      0.83      0.87      3500\n",
            "           1       0.85      0.93      0.89      3500\n",
            "\n",
            "    accuracy                           0.88      7000\n",
            "   macro avg       0.88      0.88      0.88      7000\n",
            "weighted avg       0.88      0.88      0.88      7000\n",
            "\n",
            "Accuracy :  0.8808571428571429\n",
            "Precison :  0.8849295402791987\n",
            "Recall :  0.8808571428571429\n",
            "F1 :  0.8805411864850708\n",
            "Mean Squared Error (MSE): 0.11914285714285715\n",
            "Root Mean Squared Error (RMSE): 0.34517076519145873\n"
          ],
          "name": "stdout"
        },
        {
          "output_type": "display_data",
          "data": {
            "image/png": "[encoded data removed]",
            "text/plain": [
              "<Figure size 432x288 with 2 Axes>"
            ]
          },
          "metadata": {
            "tags": [],
            "needs_background": "light"
          }
        },
        {
          "output_type": "stream",
          "text": [
            "\n",
            "Validation Scores:\n",
            "              precision    recall  f1-score   support\n",
            "\n",
            "           0       0.94      0.82      0.88      1447\n",
            "           1       0.82      0.94      0.88      1255\n",
            "\n",
            "    accuracy                           0.88      2702\n",
            "   macro avg       0.88      0.88      0.88      2702\n",
            "weighted avg       0.89      0.88      0.88      2702\n",
            "\n",
            "Accuracy :  0.8778682457438934\n",
            "Precison :  0.8864328366441648\n",
            "Recall :  0.8778682457438934\n",
            "F1 :  0.8778808256296813\n",
            "Mean Squared Error (MSE): 0.12213175425610659\n",
            "Root Mean Squared Error (RMSE): 0.3494735387065902\n"
          ],
          "name": "stdout"
        },
        {
          "output_type": "display_data",
          "data": {
            "image/png": "[encoded data removed]",
            "text/plain": [
              "<Figure size 432x288 with 2 Axes>"
            ]
          },
          "metadata": {
            "tags": [],
            "needs_background": "light"
          }
        },
        {
          "output_type": "stream",
          "text": [
            "\n"
          ],
          "name": "stdout"
        }
      ]
    },
    {
      "cell_type": "markdown",
      "metadata": {
        "id": "euotiB_pgh9M"
      },
      "source": [
        "Linear SVM"
      ]
    },
    {
      "cell_type": "code",
      "metadata": {
        "colab": {
          "base_uri": "https://localhost:8080/",
          "height": 1000
        },
        "id": "vx0N0bWqgjCl",
        "outputId": "23177de3-c0a9-4f0e-fb60-c9ad5c58a3b9"
      },
      "source": [
        "clf_sgd = LinearSVC(loss='hinge', C=0.42, tol=1e-04)\n",
        "clf_sgd.fit(X_train, y_train)\n",
        "evaluate(clf_sgd, X_train, y_train, X_val, y_val, X_test, y_test)"
      ],
      "execution_count": 45,
      "outputs": [
        {
          "output_type": "stream",
          "text": [
            "Training Scores:\n",
            "              precision    recall  f1-score   support\n",
            "\n",
            "           0       1.00      0.99      1.00      3500\n",
            "           1       0.99      1.00      1.00      3500\n",
            "\n",
            "    accuracy                           1.00      7000\n",
            "   macro avg       1.00      1.00      1.00      7000\n",
            "weighted avg       1.00      1.00      1.00      7000\n",
            "\n",
            "Accuracy :  0.9954285714285714\n",
            "Precison :  0.9954649729367873\n",
            "Recall :  0.9954285714285714\n",
            "F1 :  0.9954284874620146\n",
            "Mean Squared Error (MSE): 0.004571428571428572\n",
            "Root Mean Squared Error (RMSE): 0.06761234037828133\n"
          ],
          "name": "stdout"
        },
        {
          "output_type": "display_data",
          "data": {
            "image/png": "[encoded data removed]",
            "text/plain": [
              "<Figure size 432x288 with 2 Axes>"
            ]
          },
          "metadata": {
            "tags": [],
            "needs_background": "light"
          }
        },
        {
          "output_type": "stream",
          "text": [
            "\n",
            "Validation Scores:\n",
            "              precision    recall  f1-score   support\n",
            "\n",
            "           0       0.95      0.92      0.93      1447\n",
            "           1       0.91      0.94      0.92      1255\n",
            "\n",
            "    accuracy                           0.93      2702\n",
            "   macro avg       0.93      0.93      0.93      2702\n",
            "weighted avg       0.93      0.93      0.93      2702\n",
            "\n",
            "Accuracy :  0.927461139896373\n",
            "Precison :  0.92808334608487\n",
            "Recall :  0.927461139896373\n",
            "F1 :  0.9275260361110477\n",
            "Mean Squared Error (MSE): 0.07253886010362694\n",
            "Root Mean Squared Error (RMSE): 0.2693303920905083\n"
          ],
          "name": "stdout"
        },
        {
          "output_type": "display_data",
          "data": {
            "image/png": "[encoded data removed]",
            "text/plain": [
              "<Figure size 432x288 with 2 Axes>"
            ]
          },
          "metadata": {
            "tags": [],
            "needs_background": "light"
          }
        },
        {
          "output_type": "stream",
          "text": [
            "\n"
          ],
          "name": "stdout"
        }
      ]
    },
    {
      "cell_type": "markdown",
      "metadata": {
        "id": "M0vp1wb1N_cB"
      },
      "source": [
        "Predicting on Test Data with Linear SVM, as it has the higest F1 score for validation data."
      ]
    },
    {
      "cell_type": "code",
      "metadata": {
        "colab": {
          "base_uri": "https://localhost:8080/",
          "height": 565
        },
        "id": "btS5-eTcNo-y",
        "outputId": "980b83de-6ab1-43c0-f7dc-d262eb52b76e"
      },
      "source": [
        "print(\"Testing Scores with Linear SVM:\")\n",
        "print_metrices(clf_sgd, X_test, clf_sgd.predict(X_test), y_test)"
      ],
      "execution_count": 46,
      "outputs": [
        {
          "output_type": "stream",
          "text": [
            "Testing Scores with Linear SVM:\n",
            "              precision    recall  f1-score   support\n",
            "\n",
            "           0       0.95      0.91      0.93      1167\n",
            "           1       0.90      0.94      0.92       994\n",
            "\n",
            "    accuracy                           0.93      2161\n",
            "   macro avg       0.93      0.93      0.93      2161\n",
            "weighted avg       0.93      0.93      0.93      2161\n",
            "\n",
            "Accuracy :  0.9264229523368811\n",
            "Precison :  0.9273341884405935\n",
            "Recall :  0.9264229523368811\n",
            "F1 :  0.9265113455971816\n",
            "Mean Squared Error (MSE): 0.07357704766311893\n",
            "Root Mean Squared Error (RMSE): 0.27125089430842236\n"
          ],
          "name": "stdout"
        },
        {
          "output_type": "display_data",
          "data": {
            "image/png": "[encoded data removed]",
            "text/plain": [
              "<Figure size 432x288 with 2 Axes>"
            ]
          },
          "metadata": {
            "tags": [],
            "needs_background": "light"
          }
        },
        {
          "output_type": "stream",
          "text": [
            "\n"
          ],
          "name": "stdout"
        }
      ]
    },
    {
      "cell_type": "markdown",
      "metadata": {
        "id": "x7rQBg4hOPOg"
      },
      "source": [
        "Exporting Model and Vectorizer to deploy the machine learning model."
      ]
    },
    {
      "cell_type": "code",
      "metadata": {
        "colab": {
          "base_uri": "https://localhost:8080/"
        },
        "id": "SI08We6Qmkxt",
        "outputId": "790524c4-008b-4b4e-ed54-ac5b66f090da"
      },
      "source": [
        "joblib.dump(vector_count, 'vectorizer.joblib')"
      ],
      "execution_count": 47,
      "outputs": [
        {
          "output_type": "execute_result",
          "data": {
            "text/plain": [
              "['vectorizer.joblib']"
            ]
          },
          "metadata": {
            "tags": []
          },
          "execution_count": 47
        }
      ]
    },
    {
      "cell_type": "code",
      "metadata": {
        "colab": {
          "base_uri": "https://localhost:8080/"
        },
        "id": "PYNK6psrk0Gm",
        "outputId": "c3096d92-d87b-4bdd-ef48-5cfb57c38174"
      },
      "source": [
        "joblib.dump(clf_sgd, 'model.joblib')"
      ],
      "execution_count": 48,
      "outputs": [
        {
          "output_type": "execute_result",
          "data": {
            "text/plain": [
              "['model.joblib']"
            ]
          },
          "metadata": {
            "tags": []
          },
          "execution_count": 48
        }
      ]
    },
    {
      "cell_type": "markdown",
      "metadata": {
        "id": "hufMDJeMu1v0"
      },
      "source": [
        "Testing the files created for deployment."
      ]
    },
    {
      "cell_type": "code",
      "metadata": {
        "id": "rVOqIggTlUam"
      },
      "source": [
        "model = joblib.load('model.joblib')\n",
        "vectorizer = joblib.load('vectorizer.joblib')"
      ],
      "execution_count": 49,
      "outputs": []
    },
    {
      "cell_type": "code",
      "metadata": {
        "colab": {
          "base_uri": "https://localhost:8080/"
        },
        "id": "iemkNsc4vEIz",
        "outputId": "1fa9c9c4-b1f0-4168-89a1-90a101d4700c"
      },
      "source": [
        "text = \"Eating icecream can cure Covid-19\"\n",
        "pred = model.predict(vectorizer.transform([text]))[0]\n",
        "print (\"predicted class:\", \"real\" if pred == 0 else \"fake\")"
      ],
      "execution_count": 50,
      "outputs": [
        {
          "output_type": "stream",
          "text": [
            "predicted class: fake\n"
          ],
          "name": "stdout"
        }
      ]
    },
    {
      "cell_type": "code",
      "metadata": {
        "colab": {
          "base_uri": "https://localhost:8080/"
        },
        "id": "ohElWlldOsP4",
        "outputId": "1b5b2fe9-3555-4d21-c1ef-d5a3d2830006"
      },
      "source": [
        "text = \"Protect yourself and others from #COVID19 when using public transportation. Practice social distancing avoid touching surfaces and practice hand hygiene.\"\n",
        "pred = model.predict(vectorizer.transform([text]))[0]\n",
        "print (\"predicted class:\", \"real\" if pred == 0 else \"fake\")"
      ],
      "execution_count": 51,
      "outputs": [
        {
          "output_type": "stream",
          "text": [
            "predicted class: real\n"
          ],
          "name": "stdout"
        }
      ]
    }
  ]
}